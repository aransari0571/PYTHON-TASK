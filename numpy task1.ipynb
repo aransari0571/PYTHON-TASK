{
 "cells": [
  {
   "cell_type": "markdown",
   "id": "0b29dca0",
   "metadata": {},
   "source": [
    "1. Array Creatin Functin"
   ]
  },
  {
   "cell_type": "code",
   "execution_count": 15,
   "id": "2697b81f",
   "metadata": {},
   "outputs": [],
   "source": [
    "import numpy as np"
   ]
  },
  {
   "cell_type": "code",
   "execution_count": 16,
   "id": "4931e8dc",
   "metadata": {},
   "outputs": [
    {
     "name": "stdout",
     "output_type": "stream",
     "text": [
      "Array a :  [1 2 3]\n"
     ]
    }
   ],
   "source": [
    "# Creat a array frm a list \n",
    "a = np.array([1,2,3])\n",
    "print('Array a : ', a)"
   ]
  },
  {
   "cell_type": "code",
   "execution_count": 17,
   "id": "19cb938b",
   "metadata": {},
   "outputs": [
    {
     "name": "stdout",
     "output_type": "stream",
     "text": [
      " Array b :  [ 0  2  4  6  8 10 12 14 16 18]\n"
     ]
    }
   ],
   "source": [
    "#Creat aaaray with evenly spaced valus\n",
    "b = np.arange(0,20,2) # val from  0 to 20 with step 2\n",
    "print(\" Array b : \", b)"
   ]
  },
  {
   "cell_type": "code",
   "execution_count": 18,
   "id": "ee5a3c0c",
   "metadata": {},
   "outputs": [
    {
     "name": "stdout",
     "output_type": "stream",
     "text": [
      " Array c :  [0.   0.25 0.5  0.75 1.  ]\n"
     ]
    }
   ],
   "source": [
    "#Creat aaaray with linarly spaced valus\n",
    "\n",
    "c = np.linspace(0,1,5) #  5 val from  0 to 1 with  evenly space valuse\n",
    "print(\" Array c : \", c)\n"
   ]
  },
  {
   "cell_type": "code",
   "execution_count": 19,
   "id": "0960b3d2",
   "metadata": {},
   "outputs": [
    {
     "name": "stdout",
     "output_type": "stream",
     "text": [
      "Array d :\n",
      " [[0 0 0 0]\n",
      " [0 0 0 0]\n",
      " [0 0 0 0]]\n"
     ]
    }
   ],
   "source": [
    "# creat an array filed with zeros\n",
    "d = np.zeros((3,4), dtype=int) \n",
    "print('Array d :\\n',d)"
   ]
  },
  {
   "cell_type": "code",
   "execution_count": 20,
   "id": "e39f4715",
   "metadata": {},
   "outputs": [
    {
     "name": "stdout",
     "output_type": "stream",
     "text": [
      "Array e :\n",
      " [[1 1 1 1]\n",
      " [1 1 1 1]\n",
      " [1 1 1 1]]\n"
     ]
    }
   ],
   "source": [
    "# creat an array filed with ones\n",
    "e = np.ones((3,4), dtype=int) \n",
    "print('Array e :\\n',e)"
   ]
  },
  {
   "cell_type": "code",
   "execution_count": 21,
   "id": "ab1a496b",
   "metadata": {},
   "outputs": [
    {
     "name": "stdout",
     "output_type": "stream",
     "text": [
      "Identity matrix :\n",
      " [[1. 0. 0. 0.]\n",
      " [0. 1. 0. 0.]\n",
      " [0. 0. 1. 0.]\n",
      " [0. 0. 0. 1.]]\n"
     ]
    }
   ],
   "source": [
    "# creat an identity matrix\n",
    "f = np.eye(4) \n",
    "print('Identity matrix :\\n',f)"
   ]
  },
  {
   "cell_type": "markdown",
   "id": "ee296e5f",
   "metadata": {},
   "source": [
    "2 . Array Manipution functions"
   ]
  },
  {
   "cell_type": "code",
   "execution_count": 22,
   "id": "3e65e02d",
   "metadata": {},
   "outputs": [
    {
     "name": "stdout",
     "output_type": "stream",
     "text": [
      " Reshaped array :\n",
      " [[1 2 3]]\n"
     ]
    }
   ],
   "source": [
    "#Reshape f array\n",
    "a1 = np.array([1,2,3])\n",
    "reshaped = np.reshape(a1,(1,3)) #reshape to 1X3\n",
    "print(\" Reshaped array :\\n\", reshaped)"
   ]
  },
  {
   "cell_type": "code",
   "execution_count": 23,
   "id": "6d925391",
   "metadata": {},
   "outputs": [
    {
     "name": "stdout",
     "output_type": "stream",
     "text": [
      "Flattened array :\n",
      " [1 2 3 4]\n"
     ]
    }
   ],
   "source": [
    "#flattan array  both matrix mix in one matrix is called flattened array\n",
    "f1 = np.array([[1,2], [3,4]])\n",
    "flattened = np.ravel(f1)  #flattan to 1D array\n",
    "print('Flattened array :\\n' ,flattened)"
   ]
  },
  {
   "cell_type": "code",
   "execution_count": 24,
   "id": "24da842e",
   "metadata": {},
   "outputs": [
    {
     "name": "stdout",
     "output_type": "stream",
     "text": [
      "Tramspsed array :\n",
      " [[1 3]\n",
      " [2 4]]\n"
     ]
    }
   ],
   "source": [
    "#Transpose an array\n",
    "e1 = np.array([[1,2], [3,4]])\n",
    "transpsed = np.transpose(e1)  #transpose array\n",
    "print(\"Tramspsed array :\\n\", transpsed)\n",
    "\n",
    "\n"
   ]
  },
  {
   "cell_type": "code",
   "execution_count": 25,
   "id": "2605c440",
   "metadata": {},
   "outputs": [
    {
     "name": "stdout",
     "output_type": "stream",
     "text": [
      "Stacked arrays:\n",
      " [[1 2]\n",
      " [3 4]]\n"
     ]
    }
   ],
   "source": [
    "#Stack array vartically\n",
    "a2 = np.array([1,2])\n",
    "b2 = np.array([3,4])\n",
    "\n",
    "stacked = np.vstack([a2,b2]) #stack a and b verticaly\n",
    "print(\"Stacked arrays:\\n\", stacked)"
   ]
  },
  {
   "cell_type": "markdown",
   "id": "113294ff",
   "metadata": {},
   "source": [
    "3. Mathematical functions"
   ]
  },
  {
   "cell_type": "code",
   "execution_count": 26,
   "id": "a847d802",
   "metadata": {},
   "outputs": [
    {
     "name": "stdout",
     "output_type": "stream",
     "text": [
      "Added 2 to g:\n",
      " [ 3  4  5  6  7  8  9 10 11]\n"
     ]
    }
   ],
   "source": [
    "#add two array\n",
    "g = np.array([1,2,3,4,5,6,7,8,9])\n",
    "added = np.add(g,2)\n",
    "print(\"Added 2 to g:\\n\", added)"
   ]
  },
  {
   "cell_type": "code",
   "execution_count": 27,
   "id": "3dc25527",
   "metadata": {},
   "outputs": [
    {
     "name": "stdout",
     "output_type": "stream",
     "text": [
      "Squared g :\n",
      " [ 1  4  9 16 25 36 49 64 81]\n"
     ]
    }
   ],
   "source": [
    "#square of each element\n",
    "squared = np.power(g,2)  #square each ele\n",
    "print(\"Squared g :\\n\", squared)\n",
    "\n"
   ]
  },
  {
   "cell_type": "code",
   "execution_count": 28,
   "id": "6b4ce6b8",
   "metadata": {},
   "outputs": [
    {
     "name": "stdout",
     "output_type": "stream",
     "text": [
      "Squared root of g :\n",
      " [1.         1.41421356 1.73205081 2.         2.23606798 2.44948974\n",
      " 2.64575131 2.82842712 3.        ]\n"
     ]
    }
   ],
   "source": [
    "#square  root of  each element\n",
    "sqrt_val = np.sqrt(g)  #square  root of each ele\n",
    "print(\"Squared root of g :\\n\", sqrt_val)\n",
    "\n"
   ]
  },
  {
   "cell_type": "code",
   "execution_count": 29,
   "metadata": {},
   "outputs": [
    {
     "name": "stdout",
     "output_type": "stream",
     "text": [
      "[1 2 3]\n",
      "[1 2 3 4 5 6 7 8 9]\n"
     ]
    }
   ],
   "source": [
    "print(a1)\n",
    "print(g)"
   ]
  },
  {
   "cell_type": "code",
   "execution_count": 30,
   "metadata": {},
   "outputs": [
    {
     "ename": "ValueError",
     "evalue": "shapes (3,) and (9,) not aligned: 3 (dim 0) != 9 (dim 0)",
     "output_type": "error",
     "traceback": [
      "\u001b[1;31m---------------------------------------------------------------------------\u001b[0m",
      "\u001b[1;31mValueError\u001b[0m                                Traceback (most recent call last)",
      "Cell \u001b[1;32mIn[30], line 4\u001b[0m\n\u001b[0;32m      1\u001b[0m \u001b[38;5;66;03m#dot product of two arrrays\u001b[39;00m\n\u001b[0;32m      3\u001b[0m a2 \u001b[38;5;241m=\u001b[39m np\u001b[38;5;241m.\u001b[39marray([\u001b[38;5;241m1\u001b[39m,\u001b[38;5;241m2\u001b[39m,\u001b[38;5;241m3\u001b[39m]) \n\u001b[1;32m----> 4\u001b[0m dot_product \u001b[38;5;241m=\u001b[39m np\u001b[38;5;241m.\u001b[39mdot(a,g)\n\u001b[0;32m      5\u001b[0m \u001b[38;5;28mprint\u001b[39m(\u001b[38;5;124m\"\u001b[39m\u001b[38;5;124mdot product of a and g :\u001b[39m\u001b[38;5;130;01m\\n\u001b[39;00m\u001b[38;5;124m\"\u001b[39m, dot_product)\n",
      "\u001b[1;31mValueError\u001b[0m: shapes (3,) and (9,) not aligned: 3 (dim 0) != 9 (dim 0)"
     ]
    }
   ],
   "source": [
    "#dot product of two arrrays\n",
    "\n",
    "a2 = np.array([1,2,3]) \n",
    "dot_product = np.dot(a,g)\n",
    "print(\"dot product of a and g :\\n\", dot_product)"
   ]
  },
  {
   "cell_type": "code",
   "execution_count": null,
   "metadata": {},
   "outputs": [
    {
     "name": "stdout",
     "output_type": "stream",
     "text": [
      "[1 2 3]\n",
      "[1 2 3]\n"
     ]
    }
   ],
   "source": [
    "print(a)\n",
    "print(a1)"
   ]
  },
  {
   "cell_type": "code",
   "execution_count": null,
   "metadata": {},
   "outputs": [
    {
     "name": "stdout",
     "output_type": "stream",
     "text": [
      "dot product of a and a1 :\n",
      " 14\n"
     ]
    }
   ],
   "source": [
    "#dot product of two arrrays\n",
    "\n",
    "a3 = np.array([1,2,3]) \n",
    "dot_product = np.dot(a1,a)\n",
    "print(\"dot product of a and a1 :\\n\", dot_product)"
   ]
  },
  {
   "cell_type": "markdown",
   "id": "4bd90a23",
   "metadata": {},
   "source": [
    "4. Statistical function"
   ]
  },
  {
   "cell_type": "code",
   "execution_count": null,
   "id": "21e1e5b9",
   "metadata": {},
   "outputs": [
    {
     "name": "stdout",
     "output_type": "stream",
     "text": [
      "Mean of s: 7.5\n"
     ]
    }
   ],
   "source": [
    " s = np.array([5,6,7,8,9,10])\n",
    " mean = np.mean(s)\n",
    " print(\"Mean of s:\", mean)\n",
    "# Standard deviation of an array\n"
   ]
  },
  {
   "cell_type": "code",
   "execution_count": null,
   "id": "49467d35",
   "metadata": {},
   "outputs": [
    {
     "name": "stdout",
     "output_type": "stream",
     "text": [
      "Standard deviation of s: 1.707825127659933\n"
     ]
    }
   ],
   "source": [
    " # Standard deviation of an array\n",
    " std_dev = np.std(s)\n",
    " print(\"Standard deviation of s:\", std_dev)\n"
   ]
  },
  {
   "cell_type": "code",
   "execution_count": null,
   "metadata": {},
   "outputs": [
    {
     "name": "stdout",
     "output_type": "stream",
     "text": [
      "Minimum element of s: 5\n"
     ]
    }
   ],
   "source": [
    " # Minimum element of an array\n",
    " minimum = np.min(s)\n",
    " print(\"Minimum element of s:\", minimum)\n"
   ]
  },
  {
   "cell_type": "code",
   "execution_count": null,
   "metadata": {},
   "outputs": [
    {
     "name": "stdout",
     "output_type": "stream",
     "text": [
      "Maximum element of s: 10\n"
     ]
    }
   ],
   "source": [
    " # Maximum element of an array\n",
    " maximum = np.max(s)\n",
    " print(\"Maximum element of s:\", maximum)\n"
   ]
  },
  {
   "cell_type": "markdown",
   "id": "b08182cd",
   "metadata": {},
   "source": [
    " 5. Linear Algebra Functions\n"
   ]
  },
  {
   "cell_type": "code",
   "execution_count": null,
   "id": "36f58005",
   "metadata": {},
   "outputs": [],
   "source": [
    "# Create a matrix\n",
    "matrix = np.array([[9, 10], [3, 4]])\n",
    "\n"
   ]
  },
  {
   "cell_type": "code",
   "execution_count": null,
   "metadata": {},
   "outputs": [
    {
     "name": "stdout",
     "output_type": "stream",
     "text": [
      "Determinant of matrix: 6.0000000000000036\n"
     ]
    }
   ],
   "source": [
    " # Determinant of a matrix\n",
    " determinant = np.linalg.det(matrix)\n",
    " print(\"Determinant of matrix:\", determinant)\n"
   ]
  },
  {
   "cell_type": "code",
   "execution_count": null,
   "id": "35353c54",
   "metadata": {},
   "outputs": [
    {
     "name": "stdout",
     "output_type": "stream",
     "text": [
      "Inverse of matrix:\n",
      " [[ 0.66666667 -1.66666667]\n",
      " [-0.5         1.5       ]]\n"
     ]
    }
   ],
   "source": [
    " # Inverse of a matrix\n",
    "\n",
    "inverse = np.linalg.inv(matrix)\n",
    "print(\"Inverse of matrix:\\n\", inverse)"
   ]
  },
  {
   "cell_type": "markdown",
   "id": "c8ffb32d",
   "metadata": {},
   "source": [
    " 6. Random Sampling Functions\n"
   ]
  },
  {
   "cell_type": "code",
   "execution_count": null,
   "metadata": {},
   "outputs": [
    {
     "name": "stdout",
     "output_type": "stream",
     "text": [
      "Random values: [0.80979683 0.70393306 0.82473484 0.26993691 0.19836636]\n"
     ]
    }
   ],
   "source": [
    " # Generate random values between 0 and 1\n",
    " random_vals = np.random.rand(5)  # Array of 3 random values between 0 and 1\n",
    " print(\"Random values:\", random_vals)"
   ]
  },
  {
   "cell_type": "code",
   "execution_count": 33,
   "id": "ff776258",
   "metadata": {},
   "outputs": [
    {
     "name": "stdout",
     "output_type": "stream",
     "text": [
      "Random values: [0.5488135  0.71518937 0.60276338 0.54488318 0.4236548 ]\n",
      "Random integers: [5 2 4 7 6]\n"
     ]
    }
   ],
   "source": [
    "import numpy as np\n",
    "\n",
    "# Set seed for reproducibility\n",
    "np.random.seed(0)\n",
    "\n",
    "# Generate random values between 0 and 1\n",
    "random_vals = np.random.rand(5)  \n",
    "print(\"Random values:\", random_vals)\n",
    "\n",
    "# Generate random integers between 0 and 10\n",
    "rand_ints = np.random.randint(0, 10, size=5)\n",
    "print(\"Random integers:\", rand_ints)"
   ]
  },
  {
   "cell_type": "markdown",
   "id": "d9ee120d",
   "metadata": {},
   "source": [
    "7. Boolean & Logical Functions"
   ]
  },
  {
   "cell_type": "code",
   "execution_count": 52,
   "id": "4fc9cbde",
   "metadata": {},
   "outputs": [
    {
     "name": "stdout",
     "output_type": "stream",
     "text": [
      "All elements True: False\n"
     ]
    }
   ],
   "source": [
    "# Check if all elements are True\n",
    " # all\n",
    "logical_test = np.array([True, False, True])\n",
    "all_true = np.all(logical_test)  # Check if all are True\n",
    "print(\"All elements True:\", all_true)"
   ]
  },
  {
   "cell_type": "code",
   "execution_count": 51,
   "id": "063898e2",
   "metadata": {},
   "outputs": [
    {
     "name": "stdout",
     "output_type": "stream",
     "text": [
      "All elements True: False\n"
     ]
    }
   ],
   "source": [
    "# Check if all elements are True\n",
    "logical_test = np.array([True, False, True])\n",
    "all_true = np.all(logical_test)  # Check if all are True\n",
    "print(\"All elements True:\", all_true)"
   ]
  },
  {
   "cell_type": "code",
   "execution_count": 50,
   "id": "6faf7c6c",
   "metadata": {},
   "outputs": [
    {
     "name": "stdout",
     "output_type": "stream",
     "text": [
      "All elements True: False\n"
     ]
    }
   ],
   "source": [
    "# Check if all elements are True\n",
    "logical_test = np.array([False, False, False])\n",
    "all_true = np.all(logical_test)  # Check if all are True\n",
    "print(\"All elements True:\", all_true)"
   ]
  },
  {
   "cell_type": "code",
   "execution_count": 53,
   "id": "47d23108",
   "metadata": {},
   "outputs": [
    {
     "name": "stdout",
     "output_type": "stream",
     "text": [
      "Any elements True: True\n"
     ]
    }
   ],
   "source": [
    "# Check if any elements are True\n",
    " # any\n",
    "\n",
    "any_true = np.any(logical_test)  # Check if any are True\n",
    "print(\"Any elements True:\", any_true)"
   ]
  },
  {
   "cell_type": "markdown",
   "id": "6bfe1a0a",
   "metadata": {},
   "source": [
    " 8. Set Operations"
   ]
  },
  {
   "cell_type": "code",
   "execution_count": 55,
   "id": "e8b66d87",
   "metadata": {},
   "outputs": [
    {
     "name": "stdout",
     "output_type": "stream",
     "text": [
      "Intersection of a and b: [3 4]\n"
     ]
    }
   ],
   "source": [
    "# Intersection of two arrays\n",
    "set_a = np.array([1, 2, 3, 4])\n",
    "set_b = np.array([3, 4, 5, 6])\n",
    "intersection = np.intersect1d(set_a, set_b)\n",
    "print(\"Intersection of a and b:\", intersection)"
   ]
  },
  {
   "cell_type": "code",
   "execution_count": 56,
   "id": "9ae95b0c",
   "metadata": {},
   "outputs": [
    {
     "name": "stdout",
     "output_type": "stream",
     "text": [
      "Union of a and b: [1 2 3 4 5 6]\n"
     ]
    }
   ],
   "source": [
    "# Union of two arrays\n",
    "union = np.union1d(set_a, set_b)\n",
    "print(\"Union of a and b:\", union)"
   ]
  },
  {
   "cell_type": "markdown",
   "id": "d1c2e6c8",
   "metadata": {},
   "source": [
    " 9. Array Attribute Functions"
   ]
  },
  {
   "cell_type": "code",
   "execution_count": 58,
   "id": "80772ac8",
   "metadata": {},
   "outputs": [
    {
     "name": "stdout",
     "output_type": "stream",
     "text": [
      "Shape of a: (3,)\n",
      "Size of a: 3\n",
      "Number of dimensions of a: 1\n",
      "Data type of a: int64\n"
     ]
    }
   ],
   "source": [
    "# Array attributes\n",
    "a = np.array([1, 2, 3])\n",
    "shape = a.shape  # Shape of the array\n",
    "size = a.size    \n",
    "# Number of elements\n",
    "dimensions = a.ndim  # Number of dimensions\n",
    "dtype = a.dtype  # Data type of the array\n",
    "print(\"Shape of a:\", shape)\n",
    "print(\"Size of a:\", size)\n",
    "print(\"Number of dimensions of a:\", dimensions)\n",
    "print(\"Data type of a:\", dtype)"
   ]
  },
  {
   "cell_type": "markdown",
   "id": "0dc1bece",
   "metadata": {},
   "source": [
    " 10. Other Functions\n"
   ]
  },
  {
   "cell_type": "code",
   "execution_count": 59,
   "id": "8c3aab80",
   "metadata": {},
   "outputs": [
    {
     "name": "stdout",
     "output_type": "stream",
     "text": [
      "Copied array: [1 2 3]\n"
     ]
    }
   ],
   "source": [
    " #Create a copy of an array\n",
    "a = np.array([1, 2, 3])\n",
    "copied_array = np.copy(a)  # Create a copy of array a\n",
    "print(\"Copied array:\", copied_array)"
   ]
  },
  {
   "cell_type": "code",
   "execution_count": 60,
   "id": "569ff1fe",
   "metadata": {},
   "outputs": [
    {
     "name": "stdout",
     "output_type": "stream",
     "text": [
      "Size of a in bytes: 24\n"
     ]
    }
   ],
   "source": [
    "# Size in bytes of an array\n",
    "array_size_in_bytes = a.nbytes  # Size in bytes\n",
    "print(\"Size of a in bytes:\", array_size_in_bytes)"
   ]
  },
  {
   "cell_type": "code",
   "execution_count": 61,
   "id": "43596662",
   "metadata": {},
   "outputs": [
    {
     "name": "stdout",
     "output_type": "stream",
     "text": [
      "Do a and copied_array share memory? False\n"
     ]
    }
   ],
   "source": [
    "# Check if two arrays share memory\n",
    "shared = np.shares_memory(a, copied_array)  # Check if arrays share memory\n",
    "print(\"Do a and copied_array share memory?\", shared)"
   ]
  }
 ],
 "metadata": {
  "kernelspec": {
   "display_name": "base",
   "language": "python",
   "name": "python3"
  },
  "language_info": {
   "codemirror_mode": {
    "name": "ipython",
    "version": 3
   },
   "file_extension": ".py",
   "mimetype": "text/x-python",
   "name": "python",
   "nbconvert_exporter": "python",
   "pygments_lexer": "ipython3",
   "version": "3.13.5"
  }
 },
 "nbformat": 4,
 "nbformat_minor": 5
}
