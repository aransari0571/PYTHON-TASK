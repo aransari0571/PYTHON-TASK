{
 "cells": [
  {
   "cell_type": "code",
   "execution_count": 1,
   "id": "79a9e2ae",
   "metadata": {},
   "outputs": [
    {
     "name": "stdout",
     "output_type": "stream",
     "text": [
      "Positive number\n"
     ]
    }
   ],
   "source": [
    "# Check if a number is positive, negative or zero\n",
    "# num = int(input(\"Enter a number: \"))      \n",
    "num = 66\n",
    "if num > 0:\n",
    "    print(\"Positive number\")\n",
    "elif num == 0:\n",
    "    print(\"Zero\")\n",
    "else:\n",
    "    print(\"Negative number\")    "
   ]
  },
  {
   "cell_type": "code",
   "execution_count": 2,
   "id": "6e5ef335",
   "metadata": {},
   "outputs": [
    {
     "name": "stdout",
     "output_type": "stream",
     "text": [
      "Odd number\n"
     ]
    }
   ],
   "source": [
    "#check if a number is even or odd\n",
    "\n",
    "#n = int(input(\"Enter a number: \"))\n",
    "n = 55\n",
    "if n % 2 == 0:\n",
    "    print(\"Even number\")        \n",
    "else:\n",
    "    print(\"Odd number\")"
   ]
  },
  {
   "cell_type": "code",
   "execution_count": 4,
   "id": "876428c4",
   "metadata": {},
   "outputs": [
    {
     "name": "stdout",
     "output_type": "stream",
     "text": [
      "Excellent\n"
     ]
    }
   ],
   "source": [
    "#user input for grade(A,B,C,D,fail) and print \n",
    "\n",
    "grade = input(\"Enter your grade: \")\n",
    "if grade == 'A':\n",
    "    print(\"Excellent\")\n",
    "elif grade == 'B':\n",
    "    print(\"Very Good\")\n",
    "elif grade == 'C':\n",
    "    print(\"Good\")\n",
    "elif grade == 'D':\n",
    "    print(\"Needs Improvement\")\n",
    "else:\n",
    "    print(\"Fail\")"
   ]
  },
  {
   "cell_type": "code",
   "execution_count": 4,
   "id": "a4f68ea4",
   "metadata": {},
   "outputs": [
    {
     "name": "stdout",
     "output_type": "stream",
     "text": [
      "The number is divisible by both 5 and 11.\n"
     ]
    }
   ],
   "source": [
    "# check if a number is divisible by 5 and 11\n",
    "\n",
    "#num = int(input(\"Enter a number: \"))\n",
    "\n",
    "num = 110\n",
    "\n",
    "if num % 5 == 0 and num % 11 == 0:\n",
    "    print(\"The number is divisible by both 5 and 11.\")\n",
    "else:\n",
    "    print(\"The number is not divisible by both 5 and 11.\")\n"
   ]
  },
  {
   "cell_type": "code",
   "execution_count": null,
   "id": "fb8a73df",
   "metadata": {},
   "outputs": [
    {
     "name": "stdout",
     "output_type": "stream",
     "text": [
      "vowel is a consonant\n"
     ]
    }
   ],
   "source": [
    "#check if a character is vowel or consonant\n",
    "#char = input(\"Enter a character: \")\n",
    "\n",
    "\n",
    "char ='vowel'\n",
    "if char in 'aeiouAEIOU':\n",
    "    print(f\"{char} is a vowel\")\n",
    "else:\n",
    "    print(f\"{char} is a consonant\") "
   ]
  },
  {
   "cell_type": "code",
   "execution_count": null,
   "id": "2a06d178",
   "metadata": {},
   "outputs": [
    {
     "name": "stdout",
     "output_type": "stream",
     "text": [
      "2032 is a leap year\n"
     ]
    }
   ],
   "source": [
    "#check if a year is leap year or not\n",
    "#year = int(input(\"Enter a year: \"))    \n",
    "\n",
    "year = 2032\n",
    "if (year % 4 == 0 and year % 100 != 0) or (year % 400 == 0):\n",
    "    print(f\"{year} is a leap year\") \n",
    "else:\n",
    "    print(f\"{year} is not a leap year\")"
   ]
  },
  {
   "cell_type": "code",
   "execution_count": 14,
   "id": "be9d83f7",
   "metadata": {},
   "outputs": [
    {
     "name": "stdout",
     "output_type": "stream",
     "text": [
      "You are eligible to vote.\n"
     ]
    }
   ],
   "source": [
    "#check if a person is eligible to vote or not\n",
    "age = int(input(\"Enter your age: \"))\n",
    "#age = 20\n",
    "if age >= 18:\n",
    "    print(\"You are eligible to vote.\")\n",
    "else:\n",
    "    print(\"You are not eligible to vote.\")"
   ]
  },
  {
   "cell_type": "code",
   "execution_count": 18,
   "id": "7445c026",
   "metadata": {},
   "outputs": [
    {
     "name": "stdout",
     "output_type": "stream",
     "text": [
      "It's hot\n"
     ]
    }
   ],
   "source": [
    "#take input from user to check whether it is cool, normal or hot\n",
    "#temp = int(input(\"Enter the temperature: \"))\n",
    "\n",
    "temp = 32\n",
    "if temp < 15:\n",
    "    print(\"It's cool\")\n",
    "elif 15 <= temp < 30:\n",
    "    print(\"It's normal\")\n",
    "else:\n",
    "    print(\"It's hot\")"
   ]
  },
  {
   "cell_type": "code",
   "execution_count": 19,
   "id": "aa24c643",
   "metadata": {},
   "outputs": [
    {
     "name": "stdout",
     "output_type": "stream",
     "text": [
      "Discount applied: 120.0\n"
     ]
    }
   ],
   "source": [
    "# make a discnount system(if bill>1000 then 10% discount)\n",
    "#bill = int(input(\"Enter the bill amount: \"))\n",
    "\n",
    "\n",
    "bill = 1200\n",
    "if bill > 1000:\n",
    "    discount = bill * 0.1\n",
    "    print(f\"Discount applied: {discount}\")\n",
    "else:\n",
    "    print(\"No discount available.\")\n"
   ]
  },
  {
   "cell_type": "code",
   "execution_count": null,
   "id": "fe19622f",
   "metadata": {},
   "outputs": [
    {
     "name": "stdout",
     "output_type": "stream",
     "text": [
      "Normal weight\n"
     ]
    }
   ],
   "source": [
    "#make a BMICalculator(cheak Underweight, normal, overweight, obese)\n",
    "\n",
    "\n",
    "#weight = float(input(\"Enter your weight in kg: \"))\n",
    "#height = float(input(\"Enter your height in meters: \")) \n",
    "\n",
    "\n",
    "weight = 70\n",
    "height = 1.75\n",
    "\n",
    "bmi = weight / (height ** 2)\n",
    "if bmi < 18.5:\n",
    "    print(\"Underweight\")        \n",
    "elif 18.5 <= bmi < 24.9:\n",
    "    print(\"Normal weight\")      \n",
    "elif 25 <= bmi < 29.9:\n",
    "    print(\"Overweight\") \n",
    "else:\n",
    "    print(\"Obese\")"
   ]
  },
  {
   "cell_type": "code",
   "execution_count": 22,
   "id": "d9ad2162",
   "metadata": {},
   "outputs": [
    {
     "name": "stdout",
     "output_type": "stream",
     "text": [
      "Strong password\n"
     ]
    }
   ],
   "source": [
    "#if password is strong and week cheak it(lenght = 8, one digit, one special  char)\n",
    "\n",
    "#password = input(\"Enter your password: \")\n",
    "\n",
    "\n",
    "password = \"Passw0rd!\"\n",
    "if (len(password) >= 8 and any(char.isdigit() for char in password) \\\n",
    "and any(not char.isalnum() for char in password)):\n",
    "\n",
    "    print(\"Strong password\")\n",
    "else:\n",
    "    print(\"Weak password\")\n"
   ]
  },
  {
   "cell_type": "code",
   "execution_count": null,
   "id": "9534798a",
   "metadata": {},
   "outputs": [
    {
     "name": "stdout",
     "output_type": "stream",
     "text": [
      "More than three digit\n"
     ]
    }
   ],
   "source": [
    "#cheak number is single digit, two digit, three digit or more than three digit\n",
    "\n",
    "\n",
    "#num = int(input(\"Enter a number: \"))   \n",
    "\n",
    "\n",
    "num = 4567\n",
    "\n",
    "if 0 <= num < 10:\n",
    "    print(\"Single digit\")\n",
    "\n",
    "elif 10 <= num < 100:\n",
    "    print(\"Two digit\")\n",
    "\n",
    "elif 100 <= num < 1000:\n",
    "    print(\"Three digit\")\n",
    "\n",
    "else:\n",
    "    print(\"More than three digit\")  "
   ]
  }
 ],
 "metadata": {
  "kernelspec": {
   "display_name": "Python 3",
   "language": "python",
   "name": "python3"
  },
  "language_info": {
   "codemirror_mode": {
    "name": "ipython",
    "version": 3
   },
   "file_extension": ".py",
   "mimetype": "text/x-python",
   "name": "python",
   "nbconvert_exporter": "python",
   "pygments_lexer": "ipython3",
   "version": "3.13.5"
  }
 },
 "nbformat": 4,
 "nbformat_minor": 5
}
