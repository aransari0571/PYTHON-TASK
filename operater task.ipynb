{
 "cells": [
  {
   "cell_type": "code",
   "execution_count": 1,
   "id": "9f0e7e88",
   "metadata": {},
   "outputs": [],
   "source": [
    "a = 3\n",
    "b = 5\n"
   ]
  },
  {
   "cell_type": "code",
   "execution_count": 2,
   "id": "fd0ef25e",
   "metadata": {},
   "outputs": [
    {
     "name": "stdout",
     "output_type": "stream",
     "text": [
      "8\n",
      "15\n",
      "0.6\n",
      "0\n",
      "-2\n",
      "3\n"
     ]
    }
   ],
   "source": [
    "print(a + b)\n",
    "print(a * b)\n",
    "print(a / b)\n",
    "print(a // b)\n",
    "print(a - b)\n",
    "print(a % b)    "
   ]
  },
  {
   "cell_type": "code",
   "execution_count": null,
   "id": "6e27ff0e",
   "metadata": {},
   "outputs": [
    {
     "name": "stdout",
     "output_type": "stream",
     "text": [
      "num1 is not equal to num2 True\n"
     ]
    }
   ],
   "source": [
    "#Write a program to check if a number is not equal to another number using !=.\n",
    "\n",
    "num1 = 4\n",
    "num2 = 5\n",
    "\n",
    "a = num1 != num2\n",
    "print(\"num1 is not equal to num2\",a)"
   ]
  },
  {
   "cell_type": "code",
   "execution_count": 9,
   "id": "82f22585",
   "metadata": {},
   "outputs": [
    {
     "name": "stdout",
     "output_type": "stream",
     "text": [
      "True\n",
      "True\n"
     ]
    }
   ],
   "source": [
    "#Check if a number is between 10 and 20 using comparison and logical operators.\n",
    "num = 15\n",
    "num1 = 9\n",
    "\n",
    "num2 = num < 20  and num > 10\n",
    "num3 = num1 < 10 and  num1 < 20 \n",
    "print(num2)\n",
    "print(num3)"
   ]
  },
  {
   "cell_type": "code",
   "execution_count": 13,
   "id": "4f3c402f",
   "metadata": {},
   "outputs": [
    {
     "name": "stdout",
     "output_type": "stream",
     "text": [
      "100  is divisuble by 2 and 5 True\n"
     ]
    }
   ],
   "source": [
    "#Write a program to check if a number is divisible by both 2 and 5 using logical operators (and).\n",
    "\n",
    "num  = 100\n",
    "a =  num % 2==0 and  num % 5==0\n",
    "print( num, \" is divisuble by 2 and 5\" , a)\n"
   ]
  },
  {
   "cell_type": "code",
   "execution_count": null,
   "id": "05f0883b",
   "metadata": {},
   "outputs": [
    {
     "name": "stdout",
     "output_type": "stream",
     "text": [
      "True\n",
      "True\n",
      "True\n"
     ]
    }
   ],
   "source": [
    "#Take three numbers as input and print the largest number using comparison operators.\n",
    "num1 = int(input(\"Enter 1st Number:\"))\n",
    "num2 = int(input(\"Enter 2nd Number:\"))\n",
    "num3 = int(input(\"Enter 3rd Number:\"))\n",
    "\n",
    "print(num1 > num2 , num3)\n",
    "print(num2 > num1 , num3)\n",
    "print(num3 > num1 , num2)"
   ]
  },
  {
   "cell_type": "code",
   "execution_count": 4,
   "id": "3446af7c",
   "metadata": {},
   "outputs": [
    {
     "name": "stdout",
     "output_type": "stream",
     "text": [
      "num1 = 6\n",
      "num2 = 5\n"
     ]
    }
   ],
   "source": [
    "#Write a program to swap two numbers using the assignment operator (=, +=, -=).\n",
    "num1 = 5\n",
    "num2 = 6\n",
    "\n",
    "num1 = num1 + num2 \n",
    "num2 = num1 - num2\n",
    "num1 = num1 - num2 \n",
    " \n",
    "\n",
    "print(\"num1 =\", num1)\n",
    "print(\"num2 =\", num2)\n",
    "\n"
   ]
  },
  {
   "cell_type": "code",
   "execution_count": null,
   "id": "3cfd176b",
   "metadata": {},
   "outputs": [
    {
     "name": "stdout",
     "output_type": "stream",
     "text": [
      " Square of 4 is 16\n"
     ]
    }
   ],
   "source": [
    "#Write a program to find the square of a number using the exponent operator **. \n",
    "num = 4\n",
    "\n",
    "a = num ** 2\n",
    "print(\" Square of\",num ,\"is\" ,a)\n",
    "\n"
   ]
  },
  {
   "cell_type": "code",
   "execution_count": 22,
   "id": "14c15fa0",
   "metadata": {},
   "outputs": [
    {
     "name": "stdout",
     "output_type": "stream",
     "text": [
      "8  is divisible by  2\n"
     ]
    }
   ],
   "source": [
    "#Take two numbers and check if the first is divisible by the second using % and ==.\n",
    "\n",
    "a = 8\n",
    "b = 2\n",
    "\n",
    "if a % b == 0 :\n",
    "    print( a, \" is divisible by \",b)\n",
    "else:\n",
    "        print( a, \" is  not divisible by \",b)\n",
    "\n",
    "\n"
   ]
  },
  {
   "cell_type": "code",
   "execution_count": null,
   "id": "be35218a",
   "metadata": {},
   "outputs": [
    {
     "name": "stdout",
     "output_type": "stream",
     "text": [
      "Initial Number is : 10\n",
      "  value  is(+=): 12\n",
      "  value  is(-=): 8\n",
      "  value  is(*=): 24\n",
      "  value  is(/=): 6.0\n",
      "  value  is(%=): 1.0\n",
      "  value  is(**=): 1.0\n",
      "  value  is(//=): 0.0\n"
     ]
    }
   ],
   "source": [
    "#Write a program to demonstrate all assignment operators (+=, -=, *=, /=, %=, **=, //=).\n",
    "num = 10\n",
    "print(\"Initial Number is :\" ,num)\n",
    "\n",
    "num += 2\n",
    "print( \"  value  is (+=):\" ,num)\n",
    "\n",
    "num -= 4\n",
    "print( \"  value  is (-=):\" ,num)\n",
    "\n",
    "num *= 3\n",
    "print( \"  value  is (*=):\" ,num)\n",
    "\n",
    "num /= 4\n",
    "print( \"  value  is (/=):\" ,num)\n",
    "\n",
    "num %= 5\n",
    "print( \"  value  is (%=):\" ,num)\n",
    "\n",
    "num **= 4\n",
    "print( \"  value  is (**=):\" ,num)\n",
    "\n",
    "num //= 3\n",
    "print( \"  value  is (//=):\" ,num)\n",
    "\n"
   ]
  },
  {
   "cell_type": "code",
   "execution_count": null,
   "id": "012bafa6",
   "metadata": {},
   "outputs": [
    {
     "name": "stdout",
     "output_type": "stream",
     "text": [
      "2\n",
      "7\n",
      "5\n",
      "48\n",
      "0\n"
     ]
    }
   ],
   "source": [
    "#Use bitwise operators (&, |, ^, <<, >>) on two numbers and print results.\n",
    "num1 = 6\n",
    "num2 = 3\n",
    "\n",
    "a = num1 & num2\n",
    "print(a)\n",
    "\n",
    "b = num1 | num2\n",
    "print(b)\n",
    "\n",
    "c = num1 ^ num2\n",
    "print(c)\n",
    "\n",
    "d = num1 << num2\n",
    "print(d)\n",
    "\n",
    "e = num1 >> num2\n",
    "print(e)\n"
   ]
  },
  {
   "cell_type": "code",
   "execution_count": null,
   "id": "933fa7e0",
   "metadata": {},
   "outputs": [],
   "source": []
  }
 ],
 "metadata": {
  "kernelspec": {
   "display_name": "Python 3",
   "language": "python",
   "name": "python3"
  },
  "language_info": {
   "codemirror_mode": {
    "name": "ipython",
    "version": 3
   },
   "file_extension": ".py",
   "mimetype": "text/x-python",
   "name": "python",
   "nbconvert_exporter": "python",
   "pygments_lexer": "ipython3",
   "version": "3.13.5"
  }
 },
 "nbformat": 4,
 "nbformat_minor": 5
}
